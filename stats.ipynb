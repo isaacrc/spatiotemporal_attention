{
 "cells": [
  {
   "cell_type": "markdown",
   "metadata": {},
   "source": [
    "# Statistical Models"
   ]
  },
  {
   "cell_type": "markdown",
   "metadata": {},
   "source": [
    "- Run Mixed Effect Linear Models"
   ]
  },
  {
   "cell_type": "code",
   "execution_count": 17,
   "metadata": {},
   "outputs": [],
   "source": [
    "import json\n",
    "#Pandas for saving datasets\n",
    "import pandas as pd\n",
    "#matplotlib for rendering\n",
    "import matplotlib.pyplot as plt\n",
    "#numpy for handeling matrix operations\n",
    "import numpy as np\n",
    "#time, to, well... keep track of time\n",
    "import time\n",
    "#iPython display for making sure we can render the frames\n",
    "from IPython import display\n",
    "#seaborn for rendering\n",
    "import seaborn\n",
    "import math\n",
    "import os\n",
    "import statistics as stat\n",
    "import glob\n",
    "import seaborn as sns\n",
    "import pandas as pd\n",
    "import itertools\n"
   ]
  },
  {
   "cell_type": "code",
   "execution_count": 4,
   "metadata": {},
   "outputs": [],
   "source": [
    "#code from scipy documentation\n",
    "from scipy.stats import t\n",
    "from scipy.stats import norm\n",
    "import matplotlib.pyplot as plt\n",
    "from sklearn.linear_model import LinearRegression\n",
    "from sklearn.model_selection import train_test_split\n",
    "from sklearn.metrics import mean_squared_error\n",
    "from sklearn.metrics import r2_score\n",
    "import statsmodels.api as sm\n",
    "from statsmodels.formula.api import ols\n",
    "import statsmodels.formula.api as smf\n",
    "import pingouin as pg\n"
   ]
  },
  {
   "cell_type": "markdown",
   "metadata": {},
   "source": [
    "# Load Data"
   ]
  },
  {
   "cell_type": "code",
   "execution_count": 5,
   "metadata": {},
   "outputs": [],
   "source": [
    "# Get data file names\n",
    "cur_path = os.getcwd()\n",
    "filenames = glob.glob(cur_path + \"/data/*.csv\")\n",
    "# Read dframes into a list\n",
    "dfs = []\n",
    "for filename in filenames:\n",
    "    dfs.append(pd.read_csv(filename))"
   ]
  },
  {
   "cell_type": "markdown",
   "metadata": {},
   "source": [
    "# Filter data"
   ]
  },
  {
   "cell_type": "code",
   "execution_count": 6,
   "metadata": {},
   "outputs": [],
   "source": [
    "# get first dataframe and filter columns\n",
    "\n",
    "filt_dfs = []\n",
    "# concat all dframes into one dframe\n",
    "for sub_num, d in enumerate(dfs):\n",
    "    my_df = d.filter(items=['congruent', 'Rand Tim', 'key_resp.rt','block_num'])\n",
    "    my_df['subject_number'] = [sub_num] * len(my_df)  # Add subject number to the DataFrame\n",
    "\n",
    "    # drop na, only 10s\n",
    "    filt_dfs.append(my_df.dropna())\n",
    "\n",
    "## concat #\n",
    "full_dat = pd.concat(filt_dfs)\n"
   ]
  },
  {
   "cell_type": "code",
   "execution_count": 7,
   "metadata": {},
   "outputs": [
    {
     "name": "stdout",
     "output_type": "stream",
     "text": [
      "num subs: 26\n"
     ]
    }
   ],
   "source": [
    "print(f'num subs: {len(dfs)}')"
   ]
  },
  {
   "cell_type": "code",
   "execution_count": 10,
   "metadata": {},
   "outputs": [
    {
     "data": {
      "text/html": [
       "<div>\n",
       "<style scoped>\n",
       "    .dataframe tbody tr th:only-of-type {\n",
       "        vertical-align: middle;\n",
       "    }\n",
       "\n",
       "    .dataframe tbody tr th {\n",
       "        vertical-align: top;\n",
       "    }\n",
       "\n",
       "    .dataframe thead th {\n",
       "        text-align: right;\n",
       "    }\n",
       "</style>\n",
       "<table border=\"1\" class=\"dataframe\">\n",
       "  <thead>\n",
       "    <tr style=\"text-align: right;\">\n",
       "      <th></th>\n",
       "      <th>congruent</th>\n",
       "      <th>Rand Tim</th>\n",
       "      <th>key_resp.rt</th>\n",
       "      <th>block_num</th>\n",
       "      <th>subject_number</th>\n",
       "    </tr>\n",
       "  </thead>\n",
       "  <tbody>\n",
       "    <tr>\n",
       "      <th>1</th>\n",
       "      <td>0.0</td>\n",
       "      <td>1.3132</td>\n",
       "      <td>0.636110</td>\n",
       "      <td>5s</td>\n",
       "      <td>0</td>\n",
       "    </tr>\n",
       "    <tr>\n",
       "      <th>2</th>\n",
       "      <td>1.0</td>\n",
       "      <td>0.7037</td>\n",
       "      <td>0.709031</td>\n",
       "      <td>5s</td>\n",
       "      <td>0</td>\n",
       "    </tr>\n",
       "    <tr>\n",
       "      <th>3</th>\n",
       "      <td>0.0</td>\n",
       "      <td>0.8309</td>\n",
       "      <td>0.434464</td>\n",
       "      <td>5s</td>\n",
       "      <td>0</td>\n",
       "    </tr>\n",
       "    <tr>\n",
       "      <th>4</th>\n",
       "      <td>1.0</td>\n",
       "      <td>4.6764</td>\n",
       "      <td>0.553009</td>\n",
       "      <td>5s</td>\n",
       "      <td>0</td>\n",
       "    </tr>\n",
       "    <tr>\n",
       "      <th>5</th>\n",
       "      <td>0.0</td>\n",
       "      <td>4.6441</td>\n",
       "      <td>0.518856</td>\n",
       "      <td>5s</td>\n",
       "      <td>0</td>\n",
       "    </tr>\n",
       "    <tr>\n",
       "      <th>...</th>\n",
       "      <td>...</td>\n",
       "      <td>...</td>\n",
       "      <td>...</td>\n",
       "      <td>...</td>\n",
       "      <td>...</td>\n",
       "    </tr>\n",
       "    <tr>\n",
       "      <th>416</th>\n",
       "      <td>1.0</td>\n",
       "      <td>4.1302</td>\n",
       "      <td>0.473883</td>\n",
       "      <td>5s</td>\n",
       "      <td>25</td>\n",
       "    </tr>\n",
       "    <tr>\n",
       "      <th>419</th>\n",
       "      <td>0.0</td>\n",
       "      <td>4.1825</td>\n",
       "      <td>0.864461</td>\n",
       "      <td>5s</td>\n",
       "      <td>25</td>\n",
       "    </tr>\n",
       "    <tr>\n",
       "      <th>420</th>\n",
       "      <td>0.0</td>\n",
       "      <td>3.5785</td>\n",
       "      <td>0.386026</td>\n",
       "      <td>5s</td>\n",
       "      <td>25</td>\n",
       "    </tr>\n",
       "    <tr>\n",
       "      <th>421</th>\n",
       "      <td>0.0</td>\n",
       "      <td>1.9596</td>\n",
       "      <td>0.395578</td>\n",
       "      <td>5s</td>\n",
       "      <td>25</td>\n",
       "    </tr>\n",
       "    <tr>\n",
       "      <th>422</th>\n",
       "      <td>0.0</td>\n",
       "      <td>1.5706</td>\n",
       "      <td>0.367873</td>\n",
       "      <td>5s</td>\n",
       "      <td>25</td>\n",
       "    </tr>\n",
       "  </tbody>\n",
       "</table>\n",
       "<p>9350 rows × 5 columns</p>\n",
       "</div>"
      ],
      "text/plain": [
       "     congruent  Rand Tim  key_resp.rt block_num  subject_number\n",
       "1          0.0    1.3132     0.636110        5s               0\n",
       "2          1.0    0.7037     0.709031        5s               0\n",
       "3          0.0    0.8309     0.434464        5s               0\n",
       "4          1.0    4.6764     0.553009        5s               0\n",
       "5          0.0    4.6441     0.518856        5s               0\n",
       "..         ...       ...          ...       ...             ...\n",
       "416        1.0    4.1302     0.473883        5s              25\n",
       "419        0.0    4.1825     0.864461        5s              25\n",
       "420        0.0    3.5785     0.386026        5s              25\n",
       "421        0.0    1.9596     0.395578        5s              25\n",
       "422        0.0    1.5706     0.367873        5s              25\n",
       "\n",
       "[9350 rows x 5 columns]"
      ]
     },
     "execution_count": 10,
     "metadata": {},
     "output_type": "execute_result"
    }
   ],
   "source": [
    "full_dat"
   ]
  },
  {
   "cell_type": "markdown",
   "metadata": {},
   "source": [
    "# Fig 3: Spatial and Temporal Effects"
   ]
  },
  {
   "cell_type": "code",
   "execution_count": 11,
   "metadata": {},
   "outputs": [
    {
     "name": "stdout",
     "output_type": "stream",
     "text": [
      "                              Mixed Linear Model Regression Results\n",
      "=================================================================================================\n",
      "Model:                          MixedLM             Dependent Variable:             reaction_time\n",
      "No. Observations:               9350                Method:                         REML         \n",
      "No. Groups:                     26                  Scale:                          0.0098       \n",
      "Min. group size:                250                 Log-Likelihood:                 8223.9148    \n",
      "Max. group size:                394                 Converged:                      Yes          \n",
      "Mean group size:                359.6                                                            \n",
      "-------------------------------------------------------------------------------------------------\n",
      "                                                       Coef.  Std.Err.   z    P>|z| [0.025 0.975]\n",
      "-------------------------------------------------------------------------------------------------\n",
      "Intercept                                               0.401    0.010 41.722 0.000  0.382  0.420\n",
      "C(task)[T.3s]                                           0.026    0.007  3.492 0.000  0.011  0.041\n",
      "C(task)[T.5s]                                           0.045    0.007  6.027 0.000  0.030  0.059\n",
      "C(task)[T.10s]                                          0.060    0.007  8.106 0.000  0.045  0.074\n",
      "C(condition_type)[T.1.0]                                0.025    0.012  2.000 0.046  0.000  0.049\n",
      "C(task)[T.3s]:C(condition_type)[T.1.0]                  0.023    0.017  1.341 0.180 -0.010  0.055\n",
      "C(task)[T.5s]:C(condition_type)[T.1.0]                  0.008    0.016  0.494 0.621 -0.024  0.040\n",
      "C(task)[T.10s]:C(condition_type)[T.1.0]                 0.004    0.017  0.232 0.816 -0.029  0.037\n",
      "stimulus_onset                                         -0.086    0.009 -9.492 0.000 -0.104 -0.069\n",
      "C(task)[T.3s]:stimulus_onset                            0.062    0.010  6.463 0.000  0.043  0.080\n",
      "C(task)[T.5s]:stimulus_onset                            0.070    0.009  7.571 0.000  0.052  0.088\n",
      "C(task)[T.10s]:stimulus_onset                           0.080    0.009  8.770 0.000  0.062  0.098\n",
      "C(condition_type)[T.1.0]:stimulus_onset                -0.001    0.020 -0.057 0.954 -0.041  0.039\n",
      "C(task)[T.3s]:C(condition_type)[T.1.0]:stimulus_onset  -0.010    0.021 -0.468 0.640 -0.051  0.032\n",
      "C(task)[T.5s]:C(condition_type)[T.1.0]:stimulus_onset  -0.000    0.021 -0.016 0.987 -0.041  0.040\n",
      "C(task)[T.10s]:C(condition_type)[T.1.0]:stimulus_onset  0.003    0.020  0.143 0.887 -0.037  0.043\n",
      "Group Var                                               0.002    0.005                           \n",
      "=================================================================================================\n",
      "\n"
     ]
    },
    {
     "name": "stderr",
     "output_type": "stream",
     "text": [
      "/Users/isaacchristian/opt/anaconda3/envs/decay/lib/python3.12/site-packages/statsmodels/regression/mixed_linear_model.py:2237: ConvergenceWarning: The MLE may be on the boundary of the parameter space.\n",
      "  warnings.warn(msg, ConvergenceWarning)\n"
     ]
    }
   ],
   "source": [
    "# Create a DataFrame\n",
    "df = pd.DataFrame(full_dat)\n",
    "\n",
    "# Rename columns for clarity\n",
    "df.rename(columns={\n",
    "    'congruent': 'condition_type',\n",
    "    'Rand Tim': 'stimulus_onset',\n",
    "    'key_resp.rt': 'reaction_time',\n",
    "    'block_num': 'task'\n",
    "}, inplace=True)\n",
    "\n",
    "# Convert categorical variables to the appropriate type\n",
    "df['condition_type'] = df['condition_type'].astype('category')\n",
    "#df['task'] = df['task'].astype('category')\n",
    "df['task'] = pd.Categorical(df['task'], categories=['1s', '3s', '5s', '10s'], ordered=True)  # Set reference condition here\n",
    "\n",
    "\n",
    "# Build the fixed effects model\n",
    "model = smf.mixedlm('reaction_time ~ C(task) * C(condition_type) * stimulus_onset', \n",
    "                    data=df, \n",
    "                    groups=df['subject_number']).fit()\n",
    "# Display the model summary\n",
    "print(model.summary())"
   ]
  },
  {
   "cell_type": "markdown",
   "metadata": {},
   "source": [
    "## Posthoc Tests"
   ]
  },
  {
   "cell_type": "code",
   "execution_count": null,
   "metadata": {},
   "outputs": [],
   "source": [
    "'''\n",
    "Regression models do not automatically compute all pairwise differences between levels of a factor. \n",
    "Instead, they compare each level to a **base (reference) level**, which is chosen by default or set manually.\n",
    "\n",
    "Our goal is to test whether the effect of condition_type (valid vs. invalid) on reaction time varies \n",
    "across levels of task (1s, 3s, 5s, 10s) — i.e., to assess a **two-way interaction**.\n",
    "\n",
    "There are two main ways to test whether the size of the cueing effect (valid vs. invalid difference) \n",
    "changes across tasks:\n",
    "\n",
    "1. **Marginal Means / Difference Scores Approach**:\n",
    "   - For each subject and task level, compute the difference in reaction time between invalid and \n",
    "   valid trials.\n",
    "   - This gives you a table of cueing effects (one per subject per task).\n",
    "   - Then, perform a repeated-measures ANOVA on these difference scores to test \n",
    "   whether the cueing effect differs across tasks.\n",
    "   - This tests the **main effect of task on cueing differences**, but doesn't \n",
    "   give pairwise comparisons unless you run post hoc tests.\n",
    "\n",
    "2. **Regression Modeling Approach**:\n",
    "   - Fit a mixed-effects model including the interaction: `reaction_time ~ C(task) * C(condition_type)`.\n",
    "   - The model estimates how reaction time is influenced by task, condition_type, and their interaction, \n",
    "   controlling for repeated measures via subject-level random effects.\n",
    "   - Coefficients like `C(task)[T.5s]:C(condition_type)[T.invalid]` \n",
    "   tell you how the cueing effect differs in the 5s task compared to the reference task (e.g., 1s).\n",
    "   - For example:\n",
    "     - A coefficient of `-0.019` means the invalid-valid difference is ~0.019 **smaller** in the 10s \n",
    "     task than in the 1s task.\n",
    "   - To test other pairwise task comparisons (e.g., 3s vs 5s), you can relevel the `task` variable and refit the model.\n",
    "\n",
    "Importantly, regression gives standard errors and p-values, allowing for hypothesis testing. \n",
    "Even if you can manually compute cueing differences, the model tells you whether those differences \n",
    "are statistically meaningful.\n",
    "\n",
    "Both approaches are valid. The marginal means route gives a\n",
    "per-subject cueing effect that aligns well with experimental reporting. \n",
    "The regression model provides a full inferential framework with flexible control of covariates and variance.\n",
    "\n",
    "In summary:\n",
    "- Use **marginal means + ANOVA** to assess whether cueing effects vary across tasks.\n",
    "- Use **regression models** to formally test interactions and estimate how much larger/smaller the\n",
    "cueing effect is at each task level, compared to a reference.\n",
    "- We decided to use regression models to test RT differences between each task. For each posthoc analysis, we reset the\n",
    "  base condition to identify RT between all levels of the task. The default - 1s - compares 1s - 3s, 1s - 5s, 1s -10s,\n",
    "  but not 3s - 5s, etc..\n",
    "'''"
   ]
  },
  {
   "cell_type": "markdown",
   "metadata": {},
   "source": [
    "### 3s base"
   ]
  },
  {
   "cell_type": "code",
   "execution_count": 26,
   "metadata": {},
   "outputs": [
    {
     "name": "stdout",
     "output_type": "stream",
     "text": [
      "                              Mixed Linear Model Regression Results\n",
      "=================================================================================================\n",
      "Model:                          MixedLM             Dependent Variable:             reaction_time\n",
      "No. Observations:               9350                Method:                         REML         \n",
      "No. Groups:                     26                  Scale:                          0.0098       \n",
      "Min. group size:                250                 Log-Likelihood:                 8223.9148    \n",
      "Max. group size:                394                 Converged:                      Yes          \n",
      "Mean group size:                359.6                                                            \n",
      "-------------------------------------------------------------------------------------------------\n",
      "                                                       Coef.  Std.Err.   z    P>|z| [0.025 0.975]\n",
      "-------------------------------------------------------------------------------------------------\n",
      "Intercept                                               0.427    0.009 45.995 0.000  0.409  0.446\n",
      "C(task)[T.5s]                                           0.018    0.007  2.647 0.008  0.005  0.032\n",
      "C(task)[T.10s]                                          0.034    0.007  4.854 0.000  0.020  0.047\n",
      "C(task)[T.1s]                                          -0.026    0.007 -3.492 0.000 -0.041 -0.011\n",
      "C(condition_type)[T.1.0]                                0.047    0.011  4.200 0.000  0.025  0.070\n",
      "C(task)[T.5s]:C(condition_type)[T.1.0]                 -0.014    0.016 -0.926 0.354 -0.045  0.016\n",
      "C(task)[T.10s]:C(condition_type)[T.1.0]                -0.019    0.016 -1.171 0.241 -0.050  0.013\n",
      "C(task)[T.1s]:C(condition_type)[T.1.0]                 -0.023    0.017 -1.341 0.180 -0.055  0.010\n",
      "stimulus_onset                                         -0.025    0.003 -8.926 0.000 -0.030 -0.019\n",
      "C(task)[T.5s]:stimulus_onset                            0.009    0.003  2.628 0.009  0.002  0.015\n",
      "C(task)[T.10s]:stimulus_onset                           0.019    0.003  6.406 0.000  0.013  0.024\n",
      "C(task)[T.1s]:stimulus_onset                           -0.062    0.010 -6.463 0.000 -0.080 -0.043\n",
      "C(condition_type)[T.1.0]:stimulus_onset                -0.011    0.006 -1.797 0.072 -0.023  0.001\n",
      "C(task)[T.5s]:C(condition_type)[T.1.0]:stimulus_onset   0.010    0.007  1.338 0.181 -0.004  0.024\n",
      "C(task)[T.10s]:C(condition_type)[T.1.0]:stimulus_onset  0.013    0.006  1.988 0.047  0.000  0.025\n",
      "C(task)[T.1s]:C(condition_type)[T.1.0]:stimulus_onset   0.010    0.021  0.468 0.640 -0.032  0.051\n",
      "Group Var                                               0.002    0.005                           \n",
      "=================================================================================================\n",
      "\n"
     ]
    },
    {
     "name": "stderr",
     "output_type": "stream",
     "text": [
      "/Users/isaacchristian/opt/anaconda3/envs/decay/lib/python3.12/site-packages/statsmodels/regression/mixed_linear_model.py:2237: ConvergenceWarning: The MLE may be on the boundary of the parameter space.\n",
      "  warnings.warn(msg, ConvergenceWarning)\n"
     ]
    }
   ],
   "source": [
    "df['task'] = pd.Categorical(df['task'], categories=[ '3s', '5s', '10s','1s'], ordered=True)  # Set reference condition here\n",
    "\n",
    "\n",
    "# Build the fixed effects model\n",
    "model = smf.mixedlm('reaction_time ~ C(task) * C(condition_type) * stimulus_onset', \n",
    "                    data=df, \n",
    "                    groups=df['subject_number']).fit()\n",
    "print(model.summary())"
   ]
  },
  {
   "cell_type": "markdown",
   "metadata": {},
   "source": [
    "### 5s base"
   ]
  },
  {
   "cell_type": "code",
   "execution_count": 30,
   "metadata": {},
   "outputs": [
    {
     "name": "stdout",
     "output_type": "stream",
     "text": [
      "                              Mixed Linear Model Regression Results\n",
      "=================================================================================================\n",
      "Model:                          MixedLM             Dependent Variable:             reaction_time\n",
      "No. Observations:               9350                Method:                         REML         \n",
      "No. Groups:                     26                  Scale:                          0.0098       \n",
      "Min. group size:                250                 Log-Likelihood:                 8223.9148    \n",
      "Max. group size:                394                 Converged:                      Yes          \n",
      "Mean group size:                359.6                                                            \n",
      "-------------------------------------------------------------------------------------------------\n",
      "                                                       Coef.  Std.Err.   z    P>|z| [0.025 0.975]\n",
      "-------------------------------------------------------------------------------------------------\n",
      "Intercept                                               0.446    0.009 48.340 0.000  0.428  0.464\n",
      "C(task)[T.3s]                                          -0.018    0.007 -2.647 0.008 -0.032 -0.005\n",
      "C(task)[T.10s]                                          0.015    0.007  2.238 0.025  0.002  0.029\n",
      "C(task)[T.1s]                                          -0.045    0.007 -6.027 0.000 -0.059 -0.030\n",
      "C(condition_type)[T.1.0]                                0.033    0.011  3.081 0.002  0.012  0.054\n",
      "C(task)[T.3s]:C(condition_type)[T.1.0]                  0.014    0.016  0.926 0.354 -0.016  0.045\n",
      "C(task)[T.10s]:C(condition_type)[T.1.0]                -0.004    0.016 -0.272 0.786 -0.035  0.026\n",
      "C(task)[T.1s]:C(condition_type)[T.1.0]                 -0.008    0.016 -0.494 0.621 -0.040  0.024\n",
      "stimulus_onset                                         -0.016    0.002 -9.882 0.000 -0.020 -0.013\n",
      "C(task)[T.3s]:stimulus_onset                           -0.009    0.003 -2.628 0.009 -0.015 -0.002\n",
      "C(task)[T.10s]:stimulus_onset                           0.010    0.002  5.456 0.000  0.006  0.014\n",
      "C(task)[T.1s]:stimulus_onset                           -0.070    0.009 -7.571 0.000 -0.088 -0.052\n",
      "C(condition_type)[T.1.0]:stimulus_onset                -0.001    0.004 -0.412 0.680 -0.009  0.006\n",
      "C(task)[T.3s]:C(condition_type)[T.1.0]:stimulus_onset  -0.010    0.007 -1.338 0.181 -0.024  0.004\n",
      "C(task)[T.10s]:C(condition_type)[T.1.0]:stimulus_onset  0.003    0.004  0.790 0.429 -0.005  0.011\n",
      "C(task)[T.1s]:C(condition_type)[T.1.0]:stimulus_onset   0.000    0.021  0.016 0.987 -0.040  0.041\n",
      "Group Var                                               0.002    0.005                           \n",
      "=================================================================================================\n",
      "\n"
     ]
    },
    {
     "name": "stderr",
     "output_type": "stream",
     "text": [
      "/Users/isaacchristian/opt/anaconda3/envs/decay/lib/python3.12/site-packages/statsmodels/regression/mixed_linear_model.py:2237: ConvergenceWarning: The MLE may be on the boundary of the parameter space.\n",
      "  warnings.warn(msg, ConvergenceWarning)\n"
     ]
    }
   ],
   "source": [
    "df['task'] = pd.Categorical(df['task'], categories=[ '5s', '3s', '10s','1s'], ordered=True)  # Set reference condition here\n",
    "\n",
    "\n",
    "# Build the fixed effects model\n",
    "model = smf.mixedlm('reaction_time ~ C(task) * C(condition_type) * stimulus_onset', \n",
    "                    data=df, \n",
    "                    groups=df['subject_number']).fit()\n",
    "print(model.summary())"
   ]
  },
  {
   "cell_type": "markdown",
   "metadata": {},
   "source": [
    "# Fig 4: Temporal effects across tasks (conditioned on in/valid trials)"
   ]
  },
  {
   "cell_type": "markdown",
   "metadata": {},
   "source": [
    "### 1 s Base"
   ]
  },
  {
   "cell_type": "code",
   "execution_count": 97,
   "metadata": {},
   "outputs": [
    {
     "name": "stdout",
     "output_type": "stream",
     "text": [
      "                 Mixed Linear Model Regression Results\n",
      "========================================================================\n",
      "Model:                 MixedLM     Dependent Variable:     reaction_time\n",
      "No. Observations:      7485        Method:                 REML         \n",
      "No. Groups:            26          Scale:                  0.0090       \n",
      "Min. group size:       197         Log-Likelihood:         6928.4343    \n",
      "Max. group size:       318         Converged:              Yes          \n",
      "Mean group size:       287.9                                            \n",
      "------------------------------------------------------------------------\n",
      "                              Coef.  Std.Err.   z    P>|z| [0.025 0.975]\n",
      "------------------------------------------------------------------------\n",
      "Intercept                      0.401    0.009 42.708 0.000  0.383  0.420\n",
      "C(task)[T.3s]                  0.026    0.007  3.654 0.000  0.012  0.040\n",
      "C(task)[T.5s]                  0.045    0.007  6.321 0.000  0.031  0.059\n",
      "C(task)[T.10s]                 0.060    0.007  8.442 0.000  0.046  0.074\n",
      "stimulus_onset                -0.087    0.009 -9.943 0.000 -0.104 -0.070\n",
      "C(task)[T.3s]:stimulus_onset   0.062    0.009  6.770 0.000  0.044  0.080\n",
      "C(task)[T.5s]:stimulus_onset   0.070    0.009  7.926 0.000  0.053  0.088\n",
      "C(task)[T.10s]:stimulus_onset  0.080    0.009  9.193 0.000  0.063  0.098\n",
      "Group Var                      0.002    0.005                           \n",
      "========================================================================\n",
      "\n"
     ]
    },
    {
     "name": "stderr",
     "output_type": "stream",
     "text": [
      "/Users/isaacchristian/opt/anaconda3/envs/decay/lib/python3.12/site-packages/statsmodels/regression/mixed_linear_model.py:2237: ConvergenceWarning: The MLE may be on the boundary of the parameter space.\n",
      "  warnings.warn(msg, ConvergenceWarning)\n"
     ]
    }
   ],
   "source": [
    "# Create a DataFrame\n",
    "df = pd.DataFrame(full_dat)\n",
    "\n",
    "# Rename columns for clarity\n",
    "df.rename(columns={\n",
    "    'congruent': 'condition_type',\n",
    "    'Rand Tim': 'stimulus_onset',\n",
    "    'key_resp.rt': 'reaction_time',\n",
    "    'block_num': 'task'\n",
    "}, inplace=True)\n",
    "\n",
    "### Valid or Invalid Trials\n",
    "df = df[df['condition_type'] == 0] ### 0 = valid, 1 = invalid ** CHANGE ME\n",
    "\n",
    "# Convert categorical variables to the appropriate type\n",
    "df['condition_type'] = df['condition_type'].astype('category')\n",
    "#df['task'] = df['task'].astype('category')\n",
    "df['task'] = pd.Categorical(df['task'], categories=['1s', '3s', '5s', '10s'], ordered=True)  # Set reference condition here\n",
    "\n",
    "\n",
    "\n",
    "# Build the fixed effects model\n",
    "model = smf.mixedlm('reaction_time ~ C(task)  * stimulus_onset', \n",
    "                    data=df, \n",
    "                    groups=df['subject_number']).fit()\n",
    "# Display the model summary\n",
    "print(model.summary())"
   ]
  },
  {
   "cell_type": "markdown",
   "metadata": {},
   "source": [
    "### 3 s base"
   ]
  },
  {
   "cell_type": "code",
   "execution_count": 98,
   "metadata": {},
   "outputs": [
    {
     "name": "stdout",
     "output_type": "stream",
     "text": [
      "                 Mixed Linear Model Regression Results\n",
      "========================================================================\n",
      "Model:                 MixedLM     Dependent Variable:     reaction_time\n",
      "No. Observations:      7485        Method:                 REML         \n",
      "No. Groups:            26          Scale:                  0.0090       \n",
      "Min. group size:       197         Log-Likelihood:         6928.4343    \n",
      "Max. group size:       318         Converged:              Yes          \n",
      "Mean group size:       287.9                                            \n",
      "------------------------------------------------------------------------\n",
      "                              Coef.  Std.Err.   z    P>|z| [0.025 0.975]\n",
      "------------------------------------------------------------------------\n",
      "Intercept                      0.428    0.009 47.012 0.000  0.410  0.445\n",
      "C(task)[T.1s]                 -0.026    0.007 -3.654 0.000 -0.040 -0.012\n",
      "C(task)[T.5s]                  0.019    0.007  2.784 0.005  0.005  0.032\n",
      "C(task)[T.10s]                 0.034    0.007  5.035 0.000  0.020  0.047\n",
      "stimulus_onset                -0.025    0.003 -9.350 0.000 -0.030 -0.020\n",
      "C(task)[T.1s]:stimulus_onset  -0.062    0.009 -6.770 0.000 -0.080 -0.044\n",
      "C(task)[T.5s]:stimulus_onset   0.008    0.003  2.739 0.006  0.002  0.015\n",
      "C(task)[T.10s]:stimulus_onset  0.019    0.003  6.728 0.000  0.013  0.024\n",
      "Group Var                      0.002    0.005                           \n",
      "========================================================================\n",
      "\n"
     ]
    },
    {
     "name": "stderr",
     "output_type": "stream",
     "text": [
      "/Users/isaacchristian/opt/anaconda3/envs/decay/lib/python3.12/site-packages/statsmodels/regression/mixed_linear_model.py:2237: ConvergenceWarning: The MLE may be on the boundary of the parameter space.\n",
      "  warnings.warn(msg, ConvergenceWarning)\n"
     ]
    }
   ],
   "source": [
    "# Create a DataFrame\n",
    "df = pd.DataFrame(full_dat)\n",
    "\n",
    "# Rename columns for clarity\n",
    "df.rename(columns={\n",
    "    'congruent': 'condition_type',\n",
    "    'Rand Tim': 'stimulus_onset',\n",
    "    'key_resp.rt': 'reaction_time',\n",
    "    'block_num': 'task'\n",
    "}, inplace=True)\n",
    "\n",
    "### Valid or Invalid Trials\n",
    "df = df[df['condition_type'] == 0] ### 0 = valid, 1 = invalid ** CHANGE ME\n",
    "\n",
    "# Convert categorical variables to the appropriate type\n",
    "df['condition_type'] = df['condition_type'].astype('category')\n",
    "#df['task'] = df['task'].astype('category')\n",
    "df['task'] = pd.Categorical(df['task'], categories=['3s', '1s', '5s', '10s'], ordered=True)  # Set reference condition here\n",
    "\n",
    "\n",
    "# Build the fixed effects model\n",
    "model = smf.mixedlm('reaction_time ~ C(task) * stimulus_onset', \n",
    "                    data=df, \n",
    "                    groups=df['subject_number']).fit()\n",
    "# Display the model summary\n",
    "print(model.summary())"
   ]
  },
  {
   "cell_type": "markdown",
   "metadata": {},
   "source": [
    "### 5 s base"
   ]
  },
  {
   "cell_type": "code",
   "execution_count": 99,
   "metadata": {},
   "outputs": [
    {
     "name": "stdout",
     "output_type": "stream",
     "text": [
      "                  Mixed Linear Model Regression Results\n",
      "=========================================================================\n",
      "Model:                  MixedLM     Dependent Variable:     reaction_time\n",
      "No. Observations:       7485        Method:                 REML         \n",
      "No. Groups:             26          Scale:                  0.0090       \n",
      "Min. group size:        197         Log-Likelihood:         6928.4343    \n",
      "Max. group size:        318         Converged:              Yes          \n",
      "Mean group size:        287.9                                            \n",
      "-------------------------------------------------------------------------\n",
      "                              Coef.  Std.Err.    z    P>|z| [0.025 0.975]\n",
      "-------------------------------------------------------------------------\n",
      "Intercept                      0.446    0.009  49.402 0.000  0.428  0.464\n",
      "C(task)[T.3s]                 -0.019    0.007  -2.784 0.005 -0.032 -0.005\n",
      "C(task)[T.1s]                 -0.045    0.007  -6.321 0.000 -0.059 -0.031\n",
      "C(task)[T.10s]                 0.015    0.007   2.282 0.022  0.002  0.028\n",
      "stimulus_onset                -0.016    0.002 -10.377 0.000 -0.020 -0.013\n",
      "C(task)[T.3s]:stimulus_onset  -0.008    0.003  -2.739 0.006 -0.015 -0.002\n",
      "C(task)[T.1s]:stimulus_onset  -0.070    0.009  -7.926 0.000 -0.088 -0.053\n",
      "C(task)[T.10s]:stimulus_onset  0.010    0.002   5.767 0.000  0.007  0.014\n",
      "Group Var                      0.002    0.005                            \n",
      "=========================================================================\n",
      "\n"
     ]
    },
    {
     "name": "stderr",
     "output_type": "stream",
     "text": [
      "/Users/isaacchristian/opt/anaconda3/envs/decay/lib/python3.12/site-packages/statsmodels/regression/mixed_linear_model.py:2237: ConvergenceWarning: The MLE may be on the boundary of the parameter space.\n",
      "  warnings.warn(msg, ConvergenceWarning)\n"
     ]
    }
   ],
   "source": [
    "# Create a DataFrame\n",
    "df = pd.DataFrame(full_dat)\n",
    "\n",
    "# Rename columns for clarity\n",
    "df.rename(columns={\n",
    "    'congruent': 'condition_type',\n",
    "    'Rand Tim': 'stimulus_onset',\n",
    "    'key_resp.rt': 'reaction_time',\n",
    "    'block_num': 'task'\n",
    "}, inplace=True)\n",
    "\n",
    "### Valid or Invalid Trials\n",
    "df = df[df['condition_type'] == 0] ### 0 = valid, 1 = invalid ** CHANGE ME\n",
    "\n",
    "# Convert categorical variables to the appropriate type\n",
    "df['condition_type'] = df['condition_type'].astype('category')\n",
    "#df['task'] = df['task'].astype('category')\n",
    "df['task'] = pd.Categorical(df['task'], categories=['5s', '3s', '1s', '10s'], ordered=True)  # Set reference condition here\n",
    "\n",
    "\n",
    "# Build the fixed effects model\n",
    "model = smf.mixedlm('reaction_time ~ C(task) * stimulus_onset', \n",
    "                    data=df, \n",
    "                    groups=df['subject_number']).fit()\n",
    "# Display the model summary\n",
    "print(model.summary())"
   ]
  },
  {
   "cell_type": "markdown",
   "metadata": {},
   "source": [
    "## Normalized Luminance Onset"
   ]
  },
  {
   "cell_type": "markdown",
   "metadata": {},
   "source": [
    "### 1 s base"
   ]
  },
  {
   "cell_type": "code",
   "execution_count": 102,
   "metadata": {},
   "outputs": [
    {
     "name": "stdout",
     "output_type": "stream",
     "text": [
      "               Mixed Linear Model Regression Results\n",
      "====================================================================\n",
      "Model:               MixedLM    Dependent Variable:    reaction_time\n",
      "No. Observations:    7485       Method:                REML         \n",
      "No. Groups:          26         Scale:                 0.0090       \n",
      "Min. group size:     197        Log-Likelihood:        6933.4449    \n",
      "Max. group size:     318        Converged:             Yes          \n",
      "Mean group size:     287.9                                          \n",
      "--------------------------------------------------------------------\n",
      "                          Coef.  Std.Err.   z    P>|z| [0.025 0.975]\n",
      "--------------------------------------------------------------------\n",
      "Intercept                  0.401    0.009 42.708 0.000  0.383  0.420\n",
      "C(task)[T.3s]              0.026    0.007  3.654 0.000  0.012  0.040\n",
      "C(task)[T.5s]              0.045    0.007  6.321 0.000  0.031  0.059\n",
      "C(task)[T.10s]             0.060    0.007  8.442 0.000  0.046  0.074\n",
      "norm_onset                -0.087    0.009 -9.943 0.000 -0.104 -0.070\n",
      "C(task)[T.3s]:norm_onset   0.012    0.012  0.998 0.318 -0.011  0.035\n",
      "C(task)[T.5s]:norm_onset   0.004    0.012  0.375 0.707 -0.019  0.027\n",
      "C(task)[T.10s]:norm_onset  0.025    0.012  2.082 0.037  0.001  0.048\n",
      "Group Var                  0.002    0.005                           \n",
      "====================================================================\n",
      "\n"
     ]
    },
    {
     "name": "stderr",
     "output_type": "stream",
     "text": [
      "/Users/isaacchristian/opt/anaconda3/envs/decay/lib/python3.12/site-packages/statsmodels/regression/mixed_linear_model.py:2237: ConvergenceWarning: The MLE may be on the boundary of the parameter space.\n",
      "  warnings.warn(msg, ConvergenceWarning)\n"
     ]
    }
   ],
   "source": [
    "# Create a DataFrame\n",
    "df = pd.DataFrame(full_dat)\n",
    "\n",
    "# Rename columns for clarity\n",
    "df.rename(columns={\n",
    "    'congruent': 'condition_type',\n",
    "    'Rand Tim': 'stimulus_onset',\n",
    "    'key_resp.rt': 'reaction_time',\n",
    "    'block_num': 'task'\n",
    "}, inplace=True)\n",
    "\n",
    "### Valid or Invalid Trials\n",
    "df = df[df['condition_type'] == 0] ### 0 = valid, 1 = invalid ** CHANGE ME\n",
    "# Convert categorical variables to the appropriate type\n",
    "df['condition_type'] = df['condition_type'].astype('category')\n",
    "\n",
    "#df['task'] = df['task'].astype('category')\n",
    "df['task'] = pd.Categorical(df['task'], categories=['1s', '3s', '5s', '10s'], ordered=True)  # Set reference condition here\n",
    "df['task_numerical'] = df['task'].str.replace('s', '', regex=False).astype(float)\n",
    "df['norm_onset'] = df['stimulus_onset'] / df['task_numerical']\n",
    "\n",
    "### Valid or Invalid Trials\n",
    "df[df['condition_type'] == 0] ### 0 = valid, 1 = invalid ** CHANGE ME\n",
    "\n",
    "# Build the fixed effects model\n",
    "model = smf.mixedlm('reaction_time ~ C(task) * norm_onset', \n",
    "                    data=df, \n",
    "                    groups=df['subject_number']).fit()\n",
    "# Display the model summary\n",
    "print(model.summary())"
   ]
  },
  {
   "cell_type": "markdown",
   "metadata": {},
   "source": [
    "### 3 s base"
   ]
  },
  {
   "cell_type": "code",
   "execution_count": 87,
   "metadata": {},
   "outputs": [
    {
     "name": "stdout",
     "output_type": "stream",
     "text": [
      "               Mixed Linear Model Regression Results\n",
      "====================================================================\n",
      "Model:               MixedLM    Dependent Variable:    reaction_time\n",
      "No. Observations:    7485       Method:                REML         \n",
      "No. Groups:          26         Scale:                 0.0090       \n",
      "Min. group size:     197        Log-Likelihood:        6933.4449    \n",
      "Max. group size:     318        Converged:             Yes          \n",
      "Mean group size:     287.9                                          \n",
      "--------------------------------------------------------------------\n",
      "                          Coef.  Std.Err.   z    P>|z| [0.025 0.975]\n",
      "--------------------------------------------------------------------\n",
      "Intercept                  0.428    0.009 47.012 0.000  0.410  0.445\n",
      "C(task)[T.1s]             -0.026    0.007 -3.654 0.000 -0.040 -0.012\n",
      "C(task)[T.5s]              0.019    0.007  2.784 0.005  0.005  0.032\n",
      "C(task)[T.10s]             0.034    0.007  5.035 0.000  0.020  0.047\n",
      "norm_onset                -0.075    0.008 -9.350 0.000 -0.090 -0.059\n",
      "C(task)[T.1s]:norm_onset  -0.012    0.012 -0.998 0.318 -0.035  0.011\n",
      "C(task)[T.5s]:norm_onset  -0.007    0.011 -0.656 0.512 -0.029  0.015\n",
      "C(task)[T.10s]:norm_onset  0.013    0.011  1.136 0.256 -0.009  0.035\n",
      "Group Var                  0.002    0.005                           \n",
      "====================================================================\n",
      "\n"
     ]
    },
    {
     "name": "stderr",
     "output_type": "stream",
     "text": [
      "/Users/isaacchristian/opt/anaconda3/envs/decay/lib/python3.12/site-packages/statsmodels/regression/mixed_linear_model.py:2237: ConvergenceWarning: The MLE may be on the boundary of the parameter space.\n",
      "  warnings.warn(msg, ConvergenceWarning)\n"
     ]
    }
   ],
   "source": [
    "# Create a DataFrame\n",
    "df = pd.DataFrame(full_dat)\n",
    "\n",
    "# Rename columns for clarity\n",
    "df.rename(columns={\n",
    "    'congruent': 'condition_type',\n",
    "    'Rand Tim': 'stimulus_onset',\n",
    "    'key_resp.rt': 'reaction_time',\n",
    "    'block_num': 'task'\n",
    "}, inplace=True)\n",
    "\n",
    "### Valid or Invalid Trials\n",
    "df = df[df['condition_type'] == 0] ### 0 = valid, 1 = invalid ** CHANGE ME\n",
    "\n",
    "# Convert categorical variables to the appropriate type\n",
    "df['condition_type'] = df['condition_type'].astype('category')\n",
    "#df['task'] = df['task'].astype('category')\n",
    "df['task'] = pd.Categorical(df['task'], categories=['3s', '1s', '5s', '10s'], ordered=True)  # Set reference condition here\n",
    "df['task_numerical'] = df['task'].str.replace('s', '', regex=False).astype(float)\n",
    "df['norm_onset'] = df['stimulus_onset'] / df['task_numerical']\n",
    "\n",
    "\n",
    "# Build the fixed effects model\n",
    "model = smf.mixedlm('reaction_time ~ C(task)  * norm_onset', \n",
    "                    data=df, \n",
    "                    groups=df['subject_number']).fit()\n",
    "# Display the model summary\n",
    "print(model.summary())"
   ]
  },
  {
   "cell_type": "markdown",
   "metadata": {},
   "source": [
    "### 5 s base"
   ]
  },
  {
   "cell_type": "code",
   "execution_count": 86,
   "metadata": {},
   "outputs": [
    {
     "name": "stdout",
     "output_type": "stream",
     "text": [
      "                Mixed Linear Model Regression Results\n",
      "=====================================================================\n",
      "Model:                MixedLM    Dependent Variable:    reaction_time\n",
      "No. Observations:     7485       Method:                REML         \n",
      "No. Groups:           26         Scale:                 0.0090       \n",
      "Min. group size:      197        Log-Likelihood:        6933.4449    \n",
      "Max. group size:      318        Converged:             Yes          \n",
      "Mean group size:      287.9                                          \n",
      "---------------------------------------------------------------------\n",
      "                          Coef.  Std.Err.    z    P>|z| [0.025 0.975]\n",
      "---------------------------------------------------------------------\n",
      "Intercept                  0.446    0.009  49.402 0.000  0.428  0.464\n",
      "C(task)[T.3s]             -0.019    0.007  -2.784 0.005 -0.032 -0.005\n",
      "C(task)[T.1s]             -0.045    0.007  -6.321 0.000 -0.059 -0.031\n",
      "C(task)[T.10s]             0.015    0.007   2.282 0.022  0.002  0.028\n",
      "norm_onset                -0.082    0.008 -10.377 0.000 -0.098 -0.067\n",
      "C(task)[T.3s]:norm_onset   0.007    0.011   0.656 0.512 -0.015  0.029\n",
      "C(task)[T.1s]:norm_onset  -0.004    0.012  -0.375 0.707 -0.027  0.019\n",
      "C(task)[T.10s]:norm_onset  0.020    0.011   1.796 0.072 -0.002  0.042\n",
      "Group Var                  0.002    0.005                            \n",
      "=====================================================================\n",
      "\n"
     ]
    },
    {
     "name": "stderr",
     "output_type": "stream",
     "text": [
      "/Users/isaacchristian/opt/anaconda3/envs/decay/lib/python3.12/site-packages/statsmodels/regression/mixed_linear_model.py:2237: ConvergenceWarning: The MLE may be on the boundary of the parameter space.\n",
      "  warnings.warn(msg, ConvergenceWarning)\n"
     ]
    }
   ],
   "source": [
    "# Create a DataFrame\n",
    "df = pd.DataFrame(full_dat)\n",
    "\n",
    "# Rename columns for clarity\n",
    "df.rename(columns={\n",
    "    'congruent': 'condition_type',\n",
    "    'Rand Tim': 'stimulus_onset',\n",
    "    'key_resp.rt': 'reaction_time',\n",
    "    'block_num': 'task'\n",
    "}, inplace=True)\n",
    "\n",
    "### Valid or Invalid Trials\n",
    "df = df[df['condition_type'] == 0] ### 0 = valid, 1 = invalid ** CHANGE ME\n",
    "\n",
    "# Convert categorical variables to the appropriate type\n",
    "df['condition_type'] = df['condition_type'].astype('category')\n",
    "#df['task'] = df['task'].astype('category')\n",
    "df['task'] = pd.Categorical(df['task'], categories=['5s', '3s', '1s', '10s'], ordered=True)  # Set reference condition here\n",
    "df['task_numerical'] = df['task'].str.replace('s', '', regex=False).astype(float)\n",
    "df['norm_onset'] = df['stimulus_onset'] / df['task_numerical']\n",
    "\n",
    "\n",
    "# Build the fixed effects model\n",
    "model = smf.mixedlm('reaction_time ~ C(task)  * norm_onset', \n",
    "                    data=df, \n",
    "                    groups=df['subject_number']).fit()\n",
    "# Display the model summary\n",
    "print(model.summary())"
   ]
  },
  {
   "cell_type": "markdown",
   "metadata": {},
   "source": [
    "## Fig 5: Nonlinear Temporal Effects"
   ]
  },
  {
   "cell_type": "markdown",
   "metadata": {},
   "source": [
    "- Construct a mixed effects model for the first or second half of each task. "
   ]
  },
  {
   "cell_type": "code",
   "execution_count": 106,
   "metadata": {},
   "outputs": [
    {
     "name": "stdout",
     "output_type": "stream",
     "text": [
      "                              Mixed Linear Model Regression Results\n",
      "=================================================================================================\n",
      "Model:                          MixedLM             Dependent Variable:             reaction_time\n",
      "No. Observations:               4698                Method:                         REML         \n",
      "No. Groups:                     26                  Scale:                          0.0089       \n",
      "Min. group size:                130                 Log-Likelihood:                 4315.9352    \n",
      "Max. group size:                211                 Converged:                      Yes          \n",
      "Mean group size:                180.7                                                            \n",
      "-------------------------------------------------------------------------------------------------\n",
      "                                                       Coef.  Std.Err.   z    P>|z| [0.025 0.975]\n",
      "-------------------------------------------------------------------------------------------------\n",
      "Intercept                                               0.311    0.024 12.719 0.000  0.263  0.359\n",
      "C(task)[T.3s]                                           0.063    0.028  2.273 0.023  0.009  0.118\n",
      "C(task)[T.5s]                                           0.072    0.028  2.576 0.010  0.017  0.127\n",
      "C(task)[T.10s]                                          0.105    0.028  3.719 0.000  0.050  0.160\n",
      "C(condition_type)[T.1.0]                                0.143    0.049  2.889 0.004  0.046  0.240\n",
      "C(task)[T.3s]:C(condition_type)[T.1.0]                 -0.107    0.061 -1.744 0.081 -0.226  0.013\n",
      "C(task)[T.5s]:C(condition_type)[T.1.0]                 -0.128    0.060 -2.120 0.034 -0.247 -0.010\n",
      "C(task)[T.10s]:C(condition_type)[T.1.0]                -0.192    0.061 -3.146 0.002 -0.312 -0.073\n",
      "stimulus_onset                                          0.028    0.028  1.003 0.316 -0.027  0.084\n",
      "C(task)[T.3s]:stimulus_onset                           -0.030    0.029 -1.019 0.308 -0.087  0.027\n",
      "C(task)[T.5s]:stimulus_onset                           -0.028    0.029 -0.990 0.322 -0.084  0.028\n",
      "C(task)[T.10s]:stimulus_onset                          -0.028    0.028 -1.000 0.317 -0.084  0.027\n",
      "C(condition_type)[T.1.0]:stimulus_onset                -0.145    0.061 -2.352 0.019 -0.265 -0.024\n",
      "C(task)[T.3s]:C(condition_type)[T.1.0]:stimulus_onset   0.137    0.063  2.158 0.031  0.013  0.261\n",
      "C(task)[T.5s]:C(condition_type)[T.1.0]:stimulus_onset   0.148    0.062  2.388 0.017  0.027  0.270\n",
      "C(task)[T.10s]:C(condition_type)[T.1.0]:stimulus_onset  0.156    0.062  2.538 0.011  0.036  0.277\n",
      "Group Var                                               0.002    0.007                           \n",
      "=================================================================================================\n",
      "\n"
     ]
    },
    {
     "name": "stderr",
     "output_type": "stream",
     "text": [
      "/Users/isaacchristian/opt/anaconda3/envs/decay/lib/python3.12/site-packages/statsmodels/base/model.py:607: ConvergenceWarning: Maximum Likelihood optimization failed to converge. Check mle_retvals\n",
      "  warnings.warn(\"Maximum Likelihood optimization failed to \"\n",
      "/Users/isaacchristian/opt/anaconda3/envs/decay/lib/python3.12/site-packages/statsmodels/regression/mixed_linear_model.py:2200: ConvergenceWarning: Retrying MixedLM optimization with lbfgs\n",
      "  warnings.warn(\n",
      "/Users/isaacchristian/opt/anaconda3/envs/decay/lib/python3.12/site-packages/statsmodels/regression/mixed_linear_model.py:2237: ConvergenceWarning: The MLE may be on the boundary of the parameter space.\n",
      "  warnings.warn(msg, ConvergenceWarning)\n"
     ]
    }
   ],
   "source": [
    "# which half of the task? \n",
    "half = 'second' # first or second\n",
    "\n",
    "# Create a DataFrame\n",
    "df = pd.DataFrame(full_dat)\n",
    "\n",
    "# Rename columns for clarity\n",
    "df.rename(columns={\n",
    "    'congruent': 'condition_type',\n",
    "    'Rand Tim': 'stimulus_onset',\n",
    "    'key_resp.rt': 'reaction_time',\n",
    "    'block_num': 'task'\n",
    "}, inplace=True)\n",
    "\n",
    "# Convert categorical variables to the appropriate type\n",
    "df['condition_type'] = df['condition_type'].astype('category')\n",
    "#df['task'] = df['task'].astype('category')\n",
    "df['task'] = pd.Categorical(df['task'], categories=['1s', '3s', '5s', '10s'], ordered=True)  # Set reference condition here\n",
    "\n",
    "\n",
    "# Define the halfway point (cutoff time) for each task duration\n",
    "cutoff_times = {\n",
    "    '1s': 0.6,\n",
    "    '3s': 1.5,\n",
    "    '5s': 2.5,\n",
    "    '10s': 5.0\n",
    "}\n",
    "\n",
    "# Filter the DataFrame for stimulus onsets in the last half of the task ***** CHANGE ME **** \n",
    "# < less than cut off \n",
    "# > greater than cut off\n",
    "if half == 'second':\n",
    "    df_filtered = df[df.apply(lambda row: row['stimulus_onset'] > cutoff_times[row['task']], axis=1)]\n",
    "else:\n",
    "    df_filtered = df[df.apply(lambda row: row['stimulus_onset'] < cutoff_times[row['task']], axis=1)]\n",
    "\n",
    "model_filtered = smf.mixedlm('reaction_time ~ C(task) * C(condition_type) * stimulus_onset', \n",
    "                    data=df_filtered, \n",
    "                    groups=df_filtered['subject_number']).fit()\n",
    "\n",
    "# Display the model summary for the filtered data\n",
    "print(model_filtered.summary())"
   ]
  },
  {
   "cell_type": "code",
   "execution_count": null,
   "metadata": {},
   "outputs": [],
   "source": []
  }
 ],
 "metadata": {
  "kernelspec": {
   "display_name": "decay",
   "language": "python",
   "name": "decay"
  },
  "language_info": {
   "codemirror_mode": {
    "name": "ipython",
    "version": 3
   },
   "file_extension": ".py",
   "mimetype": "text/x-python",
   "name": "python",
   "nbconvert_exporter": "python",
   "pygments_lexer": "ipython3",
   "version": "3.12.5"
  }
 },
 "nbformat": 4,
 "nbformat_minor": 5
}
